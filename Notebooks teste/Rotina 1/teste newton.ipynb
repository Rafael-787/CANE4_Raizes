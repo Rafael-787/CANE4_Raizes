{
 "cells": [
  {
   "cell_type": "code",
   "execution_count": 2,
   "metadata": {},
   "outputs": [],
   "source": [
    "from sympy import *\n",
    "from sympy import Poly\n",
    "import matplotlib.pyplot as plt\n",
    "import numpy as np"
   ]
  },
  {
   "cell_type": "code",
   "execution_count": 3,
   "metadata": {},
   "outputs": [],
   "source": [
    "intervalo = (-100,100)\n",
    "\n",
    "x = symbols('x')\n",
    "\n",
    "exp1 = x**3 - 9*x +3\n",
    "exp = cos((pi*(x+1))/8) + 0.148*x - 0.9062"
   ]
  },
  {
   "cell_type": "code",
   "execution_count": 4,
   "metadata": {},
   "outputs": [
    {
     "data": {
      "text/latex": [
       "$\\displaystyle 9.61633666812325$"
      ],
      "text/plain": [
       "9.61633666812325"
      ]
     },
     "execution_count": 4,
     "metadata": {},
     "output_type": "execute_result"
    }
   ],
   "source": [
    "f = lambdify(x,exp,'numpy')\n",
    "nsolve(exp,x,[-5,10])"
   ]
  },
  {
   "cell_type": "code",
   "execution_count": 24,
   "metadata": {},
   "outputs": [
    {
     "name": "stdout",
     "output_type": "stream",
     "text": [
      "-pi*sin(pi*(x/8 + 1/8))/8 + 0.148\n",
      "raiz: 10.166021060047155  iteração:1  erro:0.21306478190958109\n",
      "raiz: 9.63374433649102  iteração:2  erro:0.055251281844792145\n",
      "raiz: 9.616361361165943  iteração:3  erro:0.0018076458103244097\n",
      "raiz: 9.616336668173455  iteração:4  erro:2.5678169702407866e-06\n"
     ]
    }
   ],
   "source": [
    "derivada = diff(exp,x)\n",
    "f_dif = lambdify(x,derivada,'numpy')\n",
    "print(derivada)\n",
    "xk = 8\n",
    "e = 1\n",
    "xk_old = xk\n",
    "u = 0\n",
    "\n",
    "\n",
    "while e >= 0.001:\n",
    "    xk = xk - f(xk)/f_dif(xk)\n",
    "    e = abs((xk)-xk_old)/abs(xk)\n",
    "    xk_old = xk\n",
    "    u += 1\n",
    "    print(f'raiz: {xk}  iteração:{u}  erro:{e}')"
   ]
  },
  {
   "cell_type": "code",
   "execution_count": null,
   "metadata": {},
   "outputs": [],
   "source": [
    "x_values = np.linspace(intervalo[0], intervalo[1], 10000)\n",
    "y_values = f(x_values)\n",
    "\n",
    "plt.plot(x_values,y_values)\n",
    "plt.xlabel('x')\n",
    "plt.ylabel('f(x)')\n",
    "#plt.ylim(intervalo[0],intervalo[1]) #condição nas configurações\n",
    "#plt.axvline(x=i, color='blue', linestyle='--', label=f'Raiz {round(i,3)}')\n",
    "#plt.legend()\n",
    "plt.grid(True)\n",
    "plt.show()"
   ]
  }
 ],
 "metadata": {
  "kernelspec": {
   "display_name": "CANE4",
   "language": "python",
   "name": "python3"
  },
  "language_info": {
   "codemirror_mode": {
    "name": "ipython",
    "version": 3
   },
   "file_extension": ".py",
   "mimetype": "text/x-python",
   "name": "python",
   "nbconvert_exporter": "python",
   "pygments_lexer": "ipython3",
   "version": "3.11.9"
  }
 },
 "nbformat": 4,
 "nbformat_minor": 2
}
