{
 "cells": [
  {
   "cell_type": "code",
   "execution_count": 2,
   "metadata": {},
   "outputs": [],
   "source": [
    "import numpy as np"
   ]
  },
  {
   "cell_type": "code",
   "execution_count": 78,
   "metadata": {},
   "outputs": [],
   "source": [
    "#Entrada dos dados\n",
    "a = np.array([[1,3,1],[1,1,2],[2,2,0]])\n",
    "b = np.array([[20],[10],[11]])"
   ]
  },
  {
   "cell_type": "code",
   "execution_count": 44,
   "metadata": {},
   "outputs": [
    {
     "data": {
      "text/plain": [
       "12.0"
      ]
     },
     "execution_count": 44,
     "metadata": {},
     "output_type": "execute_result"
    }
   ],
   "source": [
    "# Cálculo da determinante\n",
    "det = np.linalg.det(a)\n",
    "round(det,2)"
   ]
  },
  {
   "cell_type": "code",
   "execution_count": 118,
   "metadata": {},
   "outputs": [
    {
     "name": "stdout",
     "output_type": "stream",
     "text": [
      "[[ 1  3  1 20]\n",
      " [ 1  1  2 10]\n",
      " [ 2  2  0 11]]\n",
      "3 4\n"
     ]
    }
   ],
   "source": [
    "#Criando a matrix U\n",
    "u = np.hstack((a,b))\n",
    "print(u)\n",
    "\n",
    "ordem, colunas = u.shape # Ordem da matrix\n",
    "print(ordem, colunas)"
   ]
  },
  {
   "cell_type": "code",
   "execution_count": 96,
   "metadata": {},
   "outputs": [
    {
     "name": "stdout",
     "output_type": "stream",
     "text": [
      "[-2  0  1  3]\n",
      "[[ 2  2  0 11]\n",
      " [ 0  0  2  4]]\n",
      "[[-2  0  1  3]\n",
      " [ 3  2  0  9]\n",
      " [ 0  0  2  4]]\n"
     ]
    }
   ],
   "source": [
    "print(u[0,:])\n",
    "print(u[1,:])\n",
    "\n",
    "u[1,:] = u[1,:]-1/2*u[0,:]\n",
    "\n",
    "print(u)"
   ]
  },
  {
   "cell_type": "markdown",
   "metadata": {},
   "source": [
    "### Função escalonamento\n",
    "\n",
    "| Input | Output |\n",
    "|-------|--------|\n",
    "| Matrix u | Matrix escalonada |\n",
    "| | Nº de trocas |"
   ]
  },
  {
   "cell_type": "code",
   "execution_count": 119,
   "metadata": {},
   "outputs": [
    {
     "name": "stdout",
     "output_type": "stream",
     "text": [
      "Nº trocas: 2\n",
      "[[ 2  2  0 11]\n",
      " [ 0  2  1 14]\n",
      " [ 0  0  2  4]]\n"
     ]
    }
   ],
   "source": [
    "n_trocas = 0\n",
    "\n",
    "#Considera que a matrix é quadrada, verificar se é possível matrix não quadrada\n",
    "for j in range(colunas-1): #Itera entre as colunas menos a final\n",
    "    #print(f\"coluna {j}: {u[j:,j]}\")\n",
    "    id_pivo = np.argmax(u[j:,j])+j\n",
    "    #print(f\"id_pivo coluna {j}: {id_pivo}\")\n",
    "    if id_pivo == j:\n",
    "        pivo = u[j,id_pivo]\n",
    "        #print(f\"Pivo correto: {pivo}\")\n",
    "        #print(u)\n",
    "\n",
    "\n",
    "    else:\n",
    "        #print(f\"Trocando linhas {j} e {id_pivo} \")\n",
    "        #print('U antigo')\n",
    "        #print(u)\n",
    "        u[[j,id_pivo]] = u[[id_pivo,j]]\n",
    "        #print('u novo')\n",
    "        #print(u)\n",
    "        n_trocas += 1\n",
    "        #print(f\" Troca nº: {n_trocas}\")\n",
    "        pivo = u[j,j]\n",
    "        #print(f\"Pivo: {pivo}\")\n",
    "    for i in range(j+1,ordem): #Não itera a 1º linha\n",
    "        m = u[i,j]/pivo\n",
    "        #print(f\"m = {u[i,j]}/{pivo} = {m}\")\n",
    "        u[i,:] = u[i,:] - m*u[j,:]\n",
    "        #print(f\"L{i+1} = L{i+1} - {m}*L{j+1}\")\n",
    "        #print(u)\n",
    "    \n",
    "    #print(\"-----------------------------------------\")\n",
    "\n",
    "print(f\"Nº trocas: {n_trocas}\")\n",
    "print(u)\n"
   ]
  },
  {
   "cell_type": "markdown",
   "metadata": {},
   "source": [
    "### Resolução sistema\n",
    "\n",
    "Recebe a matrix escalonada e retorna o resultado do sistema"
   ]
  },
  {
   "cell_type": "code",
   "execution_count": 19,
   "metadata": {},
   "outputs": [
    {
     "data": {
      "text/plain": [
       "range(0, 3)"
      ]
     },
     "execution_count": 19,
     "metadata": {},
     "output_type": "execute_result"
    }
   ],
   "source": [
    "range(3)"
   ]
  }
 ],
 "metadata": {
  "kernelspec": {
   "display_name": "CANE4",
   "language": "python",
   "name": "python3"
  },
  "language_info": {
   "codemirror_mode": {
    "name": "ipython",
    "version": 3
   },
   "file_extension": ".py",
   "mimetype": "text/x-python",
   "name": "python",
   "nbconvert_exporter": "python",
   "pygments_lexer": "ipython3",
   "version": "3.11.9"
  }
 },
 "nbformat": 4,
 "nbformat_minor": 2
}
