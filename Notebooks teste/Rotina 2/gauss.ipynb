{
 "cells": [
  {
   "cell_type": "code",
   "execution_count": 41,
   "metadata": {},
   "outputs": [],
   "source": [
    "import numpy as np"
   ]
  },
  {
   "cell_type": "code",
   "execution_count": 43,
   "metadata": {},
   "outputs": [],
   "source": [
    "#Entrada dos dados\n",
    "ma = np.array([[8,1,1],[1,5,1],[2,1,2]],dtype=float)\n",
    "mb = np.array([[20],[10],[11]],dtype=float)"
   ]
  },
  {
   "cell_type": "code",
   "execution_count": 44,
   "metadata": {},
   "outputs": [
    {
     "data": {
      "text/plain": [
       "63.0"
      ]
     },
     "execution_count": 44,
     "metadata": {},
     "output_type": "execute_result"
    }
   ],
   "source": [
    "# Cálculo da determinante\n",
    "det = np.linalg.det(ma)\n",
    "round(det,2)"
   ]
  },
  {
   "cell_type": "code",
   "execution_count": 45,
   "metadata": {},
   "outputs": [
    {
     "name": "stdout",
     "output_type": "stream",
     "text": [
      "[[ 8.  1.  1. 20.]\n",
      " [ 1.  5.  1. 10.]\n",
      " [ 2.  1.  2. 11.]]\n"
     ]
    }
   ],
   "source": [
    "#Criando a matrix U\n",
    "u = np.hstack((ma,mb))\n",
    "print(u)"
   ]
  },
  {
   "cell_type": "markdown",
   "metadata": {},
   "source": [
    "### Função escalonamento\n",
    "\n",
    "| Input | Output |\n",
    "|-------|--------|\n",
    "| Matrix u | Matrix escalonada |\n",
    "| | Nº de trocas |\n",
    "| | Ordem |"
   ]
  },
  {
   "cell_type": "code",
   "execution_count": 46,
   "metadata": {},
   "outputs": [
    {
     "name": "stdout",
     "output_type": "stream",
     "text": [
      "coluna 0: [8. 1. 2.]\n",
      "id_pivo coluna 0: 0\n",
      "Pivo correto: 8.0\n",
      "[[ 8.  1.  1. 20.]\n",
      " [ 1.  5.  1. 10.]\n",
      " [ 2.  1.  2. 11.]]\n",
      "m = 1.0/8.0 = 0.125\n",
      "L2 = L2 - 0.125*L1\n",
      "[[ 8.     1.     1.    20.   ]\n",
      " [ 0.     4.875  0.875  7.5  ]\n",
      " [ 2.     1.     2.    11.   ]]\n",
      "m = 2.0/8.0 = 0.25\n",
      "L3 = L3 - 0.25*L1\n",
      "[[ 8.     1.     1.    20.   ]\n",
      " [ 0.     4.875  0.875  7.5  ]\n",
      " [ 0.     0.75   1.75   6.   ]]\n",
      "-----------------------------------------\n",
      "coluna 1: [4.875 0.75 ]\n",
      "id_pivo coluna 1: 1\n",
      "Pivo correto: 4.875\n",
      "[[ 8.     1.     1.    20.   ]\n",
      " [ 0.     4.875  0.875  7.5  ]\n",
      " [ 0.     0.75   1.75   6.   ]]\n",
      "m = 0.75/4.875 = 0.15384615384615385\n",
      "L3 = L3 - 0.15384615384615385*L2\n",
      "[[ 8.          1.          1.         20.        ]\n",
      " [ 0.          4.875       0.875       7.5       ]\n",
      " [ 0.          0.          1.61538462  4.84615385]]\n",
      "-----------------------------------------\n",
      "coluna 2: [1.61538462]\n",
      "id_pivo coluna 2: 2\n",
      "Pivo correto: 1.6153846153846154\n",
      "[[ 8.          1.          1.         20.        ]\n",
      " [ 0.          4.875       0.875       7.5       ]\n",
      " [ 0.          0.          1.61538462  4.84615385]]\n",
      "-----------------------------------------\n",
      "Ordem: 3\n",
      "Nº trocas: 0\n",
      "[[ 8.          1.          1.         20.        ]\n",
      " [ 0.          4.875       0.875       7.5       ]\n",
      " [ 0.          0.          1.61538462  4.84615385]]\n"
     ]
    }
   ],
   "source": [
    "n_trocas = 0\n",
    "ordem, colunas = u.shape # Ordem da matrix\n",
    "\n",
    "#Considera que a matrix é quadrada, verificar se é possível matrix não quadrada\n",
    "for j in range(colunas-1): #Itera entre as colunas menos a final\n",
    "    print(f\"coluna {j}: {u[j:,j]}\")\n",
    "    id_pivo = np.argmax(u[j:,j])+j\n",
    "    print(f\"id_pivo coluna {j}: {id_pivo}\")\n",
    "    if id_pivo == j:\n",
    "        pivo = u[j,id_pivo]\n",
    "        print(f\"Pivo correto: {pivo}\")\n",
    "        print(u)\n",
    "\n",
    "\n",
    "    else:\n",
    "        print(f\"Trocando linhas {j} e {id_pivo} \")\n",
    "        print('U antigo')\n",
    "        print(u)\n",
    "        u[[j,id_pivo]] = u[[id_pivo,j]]\n",
    "        print('u novo')\n",
    "        print(u)\n",
    "        n_trocas += 1\n",
    "        print(f\" Troca nº: {n_trocas}\")\n",
    "        pivo = u[j,j]\n",
    "        print(f\"Pivo: {pivo}\")\n",
    "    for i in range(j+1,ordem): #Não itera a 1º linha\n",
    "        m = u[i,j]/pivo\n",
    "        print(f\"m = {u[i,j]}/{pivo} = {m}\")\n",
    "        u[i,:] = u[i,:] - m*u[j,:]\n",
    "        print(f\"L{i+1} = L{i+1} - {m}*L{j+1}\")\n",
    "        print(u)\n",
    "    \n",
    "    print(\"-----------------------------------------\")\n",
    "\n",
    "print(f\"Ordem: {ordem}\")\n",
    "print(f\"Nº trocas: {n_trocas}\")\n",
    "print(u)\n"
   ]
  },
  {
   "cell_type": "markdown",
   "metadata": {},
   "source": [
    "### Resolução sistema\n",
    "\n",
    "Recebe a matrix escalonada e retorna o resultado do sistema"
   ]
  },
  {
   "cell_type": "code",
   "execution_count": 36,
   "metadata": {},
   "outputs": [],
   "source": [
    "# Backup de u para prototipagem\n",
    "u_bkp = np.copy(u)"
   ]
  },
  {
   "cell_type": "code",
   "execution_count": 37,
   "metadata": {},
   "outputs": [
    {
     "name": "stdout",
     "output_type": "stream",
     "text": [
      "[[ 2.   2.   0.  11. ]\n",
      " [ 0.   2.   1.   4.5]\n",
      " [ 0.   0.   2.  14.5]]\n"
     ]
    }
   ],
   "source": [
    "# Restaura u para o valor original do backup\n",
    "u = np.copy(u_bkp)\n",
    "print(u)"
   ]
  },
  {
   "cell_type": "code",
   "execution_count": 47,
   "metadata": {},
   "outputs": [
    {
     "name": "stdout",
     "output_type": "stream",
     "text": [
      "X3\n",
      "\n",
      "linha: [0.         0.         1.61538462 4.84615385]\n",
      "valor igualdade: 4.846\n",
      "coeficientes: []\n",
      "\n",
      "X3 = 4.846 - 0 / 1.615\n",
      "X3 = 3.0\n",
      "----------------------------\n",
      "\n",
      "X2\n",
      "\n",
      "linha: [0.    4.875 0.875 7.5  ]\n",
      "valor igualdade: 7.5\n",
      "coeficientes: [0.875]\n",
      "c inicial: 0\n",
      "res: [3.0]\n",
      "calculo: 0.875 * 3.0\n",
      "c final: 2.625\n",
      "\n",
      "\n",
      "X2 = 7.5 - 2.625 / 4.875\n",
      "X2 = 1.0\n",
      "----------------------------\n",
      "\n",
      "X1\n",
      "\n",
      "linha: [ 8.  1.  1. 20.]\n",
      "valor igualdade: 20.0\n",
      "coeficientes: [1. 1.]\n",
      "c inicial: 0\n",
      "res: [3.0, 1.0]\n",
      "calculo: 1.0 * 1.0\n",
      "c final: 1.0\n",
      "\n",
      "c inicial: 1.0\n",
      "res: [3.0, 1.0]\n",
      "calculo: 1.0 * 3.0\n",
      "c final: 4.0\n",
      "\n",
      "\n",
      "X1 = 20.0 - 4.0 / 8.0\n",
      "X1 = 2.0\n",
      "----------------------------\n",
      "\n",
      "Resolução: [2.0, 1.0, 3.0]\n"
     ]
    }
   ],
   "source": [
    "# Resolução do sistema\n",
    "res = []\n",
    "\n",
    "for n,i in enumerate(u[::-1]):\n",
    "    print(f\"X{len(u)-n}\")\n",
    "    print()\n",
    "    print(f\"linha: {i}\")\n",
    "    print(f\"valor igualdade: {round(i[-1],3)}\")\n",
    "    print(f\"coeficientes: {i[-(n+1):-1]}\")\n",
    "\n",
    "    subtracao = 0\n",
    "    for k,a in enumerate(i[-(n+1):-1]):\n",
    "        print(f\"c inicial: {subtracao}\")\n",
    "        print(f\"res: {res}\")\n",
    "        print(f\"calculo: {a} * {res[k-1]}\")\n",
    "        subtracao += a*res[k-1]\n",
    "        print(f\"c final: {subtracao}\")\n",
    "        print()\n",
    "\n",
    "    x = (i[-1]-subtracao)/i[-(n+2)]\n",
    "    print()\n",
    "    print(f\"X{len(u)-n} = {round(i[-1],3)} - {round(subtracao,3)} / {round(i[-(n+2)],3)}\")\n",
    "    subtracao = 0\n",
    "    res.append(round(x,3))\n",
    "    print(f\"X{len(u)-n} = {round(x,3)}\")\n",
    "    print(\"----------------------------\")\n",
    "    print()\n",
    "\n",
    "res = res[::-1]\n",
    "print(f\"Resolução: {res}\")"
   ]
  }
 ],
 "metadata": {
  "kernelspec": {
   "display_name": "CANE4",
   "language": "python",
   "name": "python3"
  },
  "language_info": {
   "codemirror_mode": {
    "name": "ipython",
    "version": 3
   },
   "file_extension": ".py",
   "mimetype": "text/x-python",
   "name": "python",
   "nbconvert_exporter": "python",
   "pygments_lexer": "ipython3",
   "version": "3.11.9"
  }
 },
 "nbformat": 4,
 "nbformat_minor": 2
}
