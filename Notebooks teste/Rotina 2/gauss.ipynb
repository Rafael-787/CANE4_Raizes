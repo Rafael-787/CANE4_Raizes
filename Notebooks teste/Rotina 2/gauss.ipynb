{
 "cells": [
  {
   "cell_type": "code",
   "execution_count": 2,
   "metadata": {},
   "outputs": [],
   "source": [
    "import numpy as np"
   ]
  },
  {
   "cell_type": "code",
   "execution_count": 176,
   "metadata": {},
   "outputs": [],
   "source": [
    "#Entrada dos dados\n",
    "ma = np.array([[1,5,1],[8,1,1],[2,1,2]],dtype=float)\n",
    "mb = np.array([[10],[20],[11]],dtype=float)"
   ]
  },
  {
   "cell_type": "code",
   "execution_count": 159,
   "metadata": {},
   "outputs": [
    {
     "data": {
      "text/plain": [
       "8.0"
      ]
     },
     "execution_count": 159,
     "metadata": {},
     "output_type": "execute_result"
    }
   ],
   "source": [
    "# Cálculo da determinante\n",
    "det = np.linalg.det(a)\n",
    "round(det,2)"
   ]
  },
  {
   "cell_type": "code",
   "execution_count": 177,
   "metadata": {},
   "outputs": [
    {
     "name": "stdout",
     "output_type": "stream",
     "text": [
      "[[ 1.  5.  1. 10.]\n",
      " [ 8.  1.  1. 20.]\n",
      " [ 2.  1.  2. 11.]]\n"
     ]
    }
   ],
   "source": [
    "#Criando a matrix U\n",
    "u = np.hstack((ma,mb))\n",
    "print(u)"
   ]
  },
  {
   "cell_type": "markdown",
   "metadata": {},
   "source": [
    "### Função escalonamento\n",
    "\n",
    "| Input | Output |\n",
    "|-------|--------|\n",
    "| Matrix u | Matrix escalonada |\n",
    "| | Nº de trocas |\n",
    "| | Ordem |"
   ]
  },
  {
   "cell_type": "code",
   "execution_count": 178,
   "metadata": {},
   "outputs": [
    {
     "name": "stdout",
     "output_type": "stream",
     "text": [
      "coluna 0: [1. 8. 2.]\n",
      "id_pivo coluna 0: 1\n",
      "Trocando linhas 0 e 1 \n",
      "U antigo\n",
      "[[ 1.  5.  1. 10.]\n",
      " [ 8.  1.  1. 20.]\n",
      " [ 2.  1.  2. 11.]]\n",
      "u novo\n",
      "[[ 8.  1.  1. 20.]\n",
      " [ 1.  5.  1. 10.]\n",
      " [ 2.  1.  2. 11.]]\n",
      " Troca nº: 1\n",
      "Pivo: 8.0\n",
      "m = 1.0/8.0 = 0.125\n",
      "L2 = L2 - 0.125*L1\n",
      "[[ 8.     1.     1.    20.   ]\n",
      " [ 0.     4.875  0.875  7.5  ]\n",
      " [ 2.     1.     2.    11.   ]]\n",
      "m = 2.0/8.0 = 0.25\n",
      "L3 = L3 - 0.25*L1\n",
      "[[ 8.     1.     1.    20.   ]\n",
      " [ 0.     4.875  0.875  7.5  ]\n",
      " [ 0.     0.75   1.75   6.   ]]\n",
      "-----------------------------------------\n",
      "coluna 1: [4.875 0.75 ]\n",
      "id_pivo coluna 1: 1\n",
      "Pivo correto: 4.875\n",
      "[[ 8.     1.     1.    20.   ]\n",
      " [ 0.     4.875  0.875  7.5  ]\n",
      " [ 0.     0.75   1.75   6.   ]]\n",
      "m = 0.75/4.875 = 0.15384615384615385\n",
      "L3 = L3 - 0.15384615384615385*L2\n",
      "[[ 8.          1.          1.         20.        ]\n",
      " [ 0.          4.875       0.875       7.5       ]\n",
      " [ 0.          0.          1.61538462  4.84615385]]\n",
      "-----------------------------------------\n",
      "coluna 2: [1.61538462]\n",
      "id_pivo coluna 2: 2\n",
      "Pivo correto: 1.6153846153846154\n",
      "[[ 8.          1.          1.         20.        ]\n",
      " [ 0.          4.875       0.875       7.5       ]\n",
      " [ 0.          0.          1.61538462  4.84615385]]\n",
      "-----------------------------------------\n",
      "Ordem: 3\n",
      "Nº trocas: 1\n",
      "[[ 8.          1.          1.         20.        ]\n",
      " [ 0.          4.875       0.875       7.5       ]\n",
      " [ 0.          0.          1.61538462  4.84615385]]\n"
     ]
    }
   ],
   "source": [
    "n_trocas = 0\n",
    "ordem, colunas = u.shape # Ordem da matrix\n",
    "\n",
    "#Considera que a matrix é quadrada, verificar se é possível matrix não quadrada\n",
    "for j in range(colunas-1): #Itera entre as colunas menos a final\n",
    "    #print(f\"coluna {j}: {u[j:,j]}\")\n",
    "    id_pivo = np.argmax(u[j:,j])+j\n",
    "    #print(f\"id_pivo coluna {j}: {id_pivo}\")\n",
    "    if id_pivo == j:\n",
    "        pivo = u[j,id_pivo]\n",
    "        #print(f\"Pivo correto: {pivo}\")\n",
    "        #print(u)\n",
    "\n",
    "\n",
    "    else:\n",
    "        #print(f\"Trocando linhas {j} e {id_pivo} \")\n",
    "        #print('U antigo')\n",
    "        #print(u)\n",
    "        u[[j,id_pivo]] = u[[id_pivo,j]]\n",
    "        #print('u novo')\n",
    "        #print(u)\n",
    "        n_trocas += 1\n",
    "        #print(f\" Troca nº: {n_trocas}\")\n",
    "        pivo = u[j,j]\n",
    "        #print(f\"Pivo: {pivo}\")\n",
    "    for i in range(j+1,ordem): #Não itera a 1º linha\n",
    "        m = u[i,j]/pivo\n",
    "        #print(f\"m = {u[i,j]}/{pivo} = {m}\")\n",
    "        u[i,:] = u[i,:] - m*u[j,:]\n",
    "        #print(f\"L{i+1} = L{i+1} - {m}*L{j+1}\")\n",
    "        #print(u)\n",
    "    \n",
    "    #print(\"-----------------------------------------\")\n",
    "\n",
    "print(f\"Ordem: {ordem}\")\n",
    "print(f\"Nº trocas: {n_trocas}\")\n",
    "print(u)\n"
   ]
  },
  {
   "cell_type": "markdown",
   "metadata": {},
   "source": [
    "[[ 8.          1.          1.         20.        ]\n",
    " [ 0.          4.875       0.875       7.5       ]\n",
    " [ 0.          0.          1.61538462  4.84615385]]"
   ]
  },
  {
   "cell_type": "markdown",
   "metadata": {},
   "source": [
    "### Resolução sistema\n",
    "\n",
    "Recebe a matrix escalonada e retorna o resultado do sistema"
   ]
  },
  {
   "cell_type": "code",
   "execution_count": 120,
   "metadata": {},
   "outputs": [],
   "source": [
    "# Backup de u para prototipagem\n",
    "u_bkp = np.copy(u)"
   ]
  },
  {
   "cell_type": "code",
   "execution_count": 121,
   "metadata": {},
   "outputs": [
    {
     "name": "stdout",
     "output_type": "stream",
     "text": [
      "[[ 2  2  0 11]\n",
      " [ 0  2  1 14]\n",
      " [ 0  0  2  4]]\n"
     ]
    }
   ],
   "source": [
    "# Restaura u para o valor original do backup\n",
    "u = np.copy(u_bkp)\n",
    "print(u)"
   ]
  },
  {
   "cell_type": "code",
   "execution_count": 175,
   "metadata": {},
   "outputs": [
    {
     "name": "stdout",
     "output_type": "stream",
     "text": [
      "n: 0\n",
      "i: [0.         0.         1.61538462 4.84615385]\n",
      "valor final: 4.846153846153846\n",
      "cof já calculados: []\n",
      "x: 2.9999999999999996\n",
      "\n",
      "n: 1\n",
      "i: [0.    4.875 0.875 7.5  ]\n",
      "valor final: 7.5\n",
      "cof já calculados: [0.875]\n",
      "calculados: 2.9999999999999996\n",
      "subtração: 2.6249999999999996\n",
      "x: 1.0\n",
      "\n",
      "n: 2\n",
      "i: [ 8.  1.  1. 20.]\n",
      "valor final: 20.0\n",
      "cof já calculados: [1. 1.]\n",
      "calculados: 1.0\n",
      "subtração: 1.0\n",
      "calculados: 1.0\n",
      "subtração: 2.0\n",
      "x: 2.25\n",
      "\n",
      "Resolução: [2.9999999999999996, 1.0, 2.25]\n"
     ]
    }
   ],
   "source": [
    "# Resolução do sistema\n",
    "res = []\n",
    "\n",
    "for n,i in enumerate(u[::-1]):\n",
    "    print(f\"n: {n}\")\n",
    "    print(f\"i: {i}\")\n",
    "    print(f\"valor final: {i[-1]}\")\n",
    "    print(f\"cof já calculados: {i[-(n+1):-1]}\")\n",
    "    c = 0\n",
    "    for a in i[-(n+1):-1]:\n",
    "        print(f\"calculados: {res[n-1]}\")\n",
    "        c += a*res[n-1]\n",
    "        print(f\"subtração: {c}\")\n",
    "    b = i[-1]-c\n",
    "    x = b/i[-(n+2)]\n",
    "    res.append(x)\n",
    "    print(f\"x: {x}\")\n",
    "    print()\n",
    "\n",
    "print(f\"Resolução: {res}\")"
   ]
  },
  {
   "cell_type": "code",
   "execution_count": 134,
   "metadata": {},
   "outputs": [
    {
     "ename": "IndexError",
     "evalue": "index 0 is out of bounds for axis 0 with size 0",
     "output_type": "error",
     "traceback": [
      "\u001b[1;31m---------------------------------------------------------------------------\u001b[0m",
      "\u001b[1;31mIndexError\u001b[0m                                Traceback (most recent call last)",
      "Cell \u001b[1;32mIn[134], line 2\u001b[0m\n\u001b[0;32m      1\u001b[0m res \u001b[38;5;241m=\u001b[39m np\u001b[38;5;241m.\u001b[39marray([])\n\u001b[1;32m----> 2\u001b[0m \u001b[38;5;28mprint\u001b[39m(\u001b[43mres\u001b[49m\u001b[43m[\u001b[49m\u001b[38;5;241;43m0\u001b[39;49m\u001b[43m]\u001b[49m)\n",
      "\u001b[1;31mIndexError\u001b[0m: index 0 is out of bounds for axis 0 with size 0"
     ]
    }
   ],
   "source": [
    "res = np.array([])\n",
    "print(res[0])"
   ]
  }
 ],
 "metadata": {
  "kernelspec": {
   "display_name": "CANE4",
   "language": "python",
   "name": "python3"
  },
  "language_info": {
   "codemirror_mode": {
    "name": "ipython",
    "version": 3
   },
   "file_extension": ".py",
   "mimetype": "text/x-python",
   "name": "python",
   "nbconvert_exporter": "python",
   "pygments_lexer": "ipython3",
   "version": "3.11.9"
  }
 },
 "nbformat": 4,
 "nbformat_minor": 2
}
